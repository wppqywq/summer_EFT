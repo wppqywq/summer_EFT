{
 "cells": [
  {
   "cell_type": "code",
   "execution_count": 2,
   "id": "e3202201",
   "metadata": {
    "ExecuteTime": {
     "end_time": "2022-06-08T21:15:24.241281Z",
     "start_time": "2022-06-08T21:15:17.516548Z"
    },
    "code_folding": []
   },
   "outputs": [
    {
     "name": "stdout",
     "output_type": "stream",
     "text": [
      "Welcome to JupyROOT 6.26/02\n",
      "\n",
      "Applying ATLAS style settings...\n",
      "\n"
     ]
    }
   ],
   "source": [
    "# load style\n",
    "from ROOT import gROOT\n",
    "\n",
    "path = '../../'\n",
    "# path = '/eos/user/y/youyou/'\n",
    "gROOT.SetMacroPath(path+\"atlasstyle/\")\n",
    "gROOT.LoadMacro(\"AtlasLabels.C\")\n",
    "gROOT.LoadMacro(\"AtlasStyle.C\")\n",
    "gROOT.LoadMacro(\"AtlasUtils.C\")\n",
    "from ROOT import SetAtlasStyle, ATLASLabel, myText, myMarkerText\n",
    "SetAtlasStyle()"
   ]
  },
  {
   "cell_type": "code",
   "execution_count": 3,
   "id": "b23ad328",
   "metadata": {
    "ExecuteTime": {
     "end_time": "2022-06-08T21:15:26.391474Z",
     "start_time": "2022-06-08T21:15:26.288518Z"
    },
    "code_folding": []
   },
   "outputs": [],
   "source": [
    "# load lib\n",
    "import ROOT\n",
    "import os, sys\n",
    "import numpy as np\n",
    "from array import array\n",
    "# import pandas as pd"
   ]
  },
  {
   "cell_type": "code",
   "execution_count": 4,
   "id": "08bd1a85",
   "metadata": {
    "ExecuteTime": {
     "end_time": "2022-06-08T21:15:27.588712Z",
     "start_time": "2022-06-08T21:15:27.159789Z"
    },
    "code_folding": []
   },
   "outputs": [
    {
     "data": {
      "text/plain": [
       "12"
      ]
     },
     "execution_count": 4,
     "metadata": {},
     "output_type": "execute_result"
    }
   ],
   "source": [
    "# load files\n",
    "\n",
    "# file for standard model\n",
    "sm_file = path + 'EFT_MINI_TREES/SM.root'\n",
    "# standard model tree\n",
    "sm_data = ROOT.TFile(sm_file,'READ')\n",
    "sm_tree = sm_data.vbswy_tree\n",
    "\n",
    "eft_path = path + 'EFT_MINI_TREES/'\n",
    "files = [(eft_path+i) for i in os.listdir(eft_path)]\n",
    "files.sort()\n",
    "files.remove(sm_file)\n",
    "int_files = [i for i in files if 'INT' in i]\n",
    "quad_files = [i for i in files if 'QUAD' in i]\n",
    "# all file from john for testing\n",
    "# all_files = [i for i in files if not (i in int_files) and not(i in quad_files)]\n",
    "\n",
    "# I have combined the _int.root, _quad.root and the sm.root files to _all.root\n",
    "# all_files = [('./all/'+i) for i in os.listdir('./all/')]\n",
    "\n",
    "operators = [i.split('/')[-1].split('_')[0] for i in int_files]\n",
    "operators.index('T7')"
   ]
  },
  {
   "cell_type": "code",
   "execution_count": 5,
   "id": "7f395e0e",
   "metadata": {
    "ExecuteTime": {
     "end_time": "2022-06-08T21:15:28.817361Z",
     "start_time": "2022-06-08T21:15:28.700918Z"
    }
   },
   "outputs": [],
   "source": [
    "# list of branches we interested in \n",
    "names = [g.GetName() for g in sm_tree.GetListOfBranches()]\n",
    "truth_branch = [i for i in names if 'truth' in i]\n",
    "truth_branch = list(dict.fromkeys(truth_branch))\n",
    "\n",
    "is_reconst = lambda i: not (('truth' in i) or ('weight' in i) or ('pass_baseline' in i))\n",
    "reconst_branch = [i for i in names if is_reconst(i)]\n",
    "reconst_branch = list(dict.fromkeys(reconst_branch))"
   ]
  },
  {
   "cell_type": "code",
   "execution_count": null,
   "id": "3c998019",
   "metadata": {
    "ExecuteTime": {
     "end_time": "2022-06-08T21:15:30.234250Z",
     "start_time": "2022-06-08T21:15:30.113414Z"
    },
    "code_folding": [
     7,
     11
    ]
   },
   "outputs": [],
   "source": [
    "# function of method 1\n",
    "def plot_branch(operator, branch, set_log=True, set_log_x=False, isTruth=True, isPDF=False, default_nbins=45):\n",
    "    \n",
    "    # load files\n",
    "    i = operators.index(operator)\n",
    "    int_data = ROOT.TFile(int_files[i],'READ')\n",
    "    int_tree = int_data.vbswy_tree\n",
    "    quad_data = ROOT.TFile(quad_files[i], 'READ')\n",
    "    quad_tree = quad_data.vbswy_tree\n",
    "    min_x = min(int_tree.GetMinimum(branch), quad_tree.GetMinimum(branch), sm_tree.GetMinimum(branch), 0)\n",
    "    max_x = max(int_tree.GetMaximum(branch), quad_tree.GetMaximum(branch), sm_tree.GetMaximum(branch))+0.5\n",
    "\n",
    "    def generate_output_path():\n",
    "        folder = 'reconstructed/'\n",
    "        if isTruth:\n",
    "            folder = 'truth/'\n",
    "        format = 'png'\n",
    "        if isPDF:\n",
    "            format = 'pdf'\n",
    "        folder = './output_'+format+'/'+folder\n",
    "        if not os.path.exists(folder+operator):\n",
    "            os.mkdir(folder+operator)\n",
    "        return (folder+operator+'/'+branch+'.'+format)\n",
    "\n",
    "    # start plot\n",
    "    can = ROOT.TCanvas('can1', operator+'/'+branch,800,600)\n",
    "    can.cd()\n",
    "    \n",
    "    # upper part\n",
    "    pad1 = ROOT.TPad (\" pad1 \",\" pad1 \" ,0,0,1,1)\n",
    "    pad1.Draw()\n",
    "    pad1.SetLogy ( set_log )\n",
    "    pad1.SetLogx(set_log_x)\n",
    "    pad1.cd()\n",
    "    \n",
    "    # set bins for hist\n",
    "    nbins = default_nbins\n",
    "    if set_log:\n",
    "        if set_log_x:\n",
    "            nbins = 40\n",
    "            if max_x > 10**6:\n",
    "                nbins = 60\n",
    "            elif max_x > 10**5:\n",
    "                nbins = 50\n",
    "        bins = np.linspace(1.2,1.2,nbins).cumprod()\n",
    "        bins = np.insert(bins, 0, 0)\n",
    "        nbins = (len(bins)-1)\n",
    "        divider = bins[-1] / max_x\n",
    "        bins = array('d',bins/divider)\n",
    "        h_sm = ROOT.TH1F(\"h_sm\", \"sm;;\", nbins, bins)\n",
    "        h1 = ROOT.TH1F(\"h1\", \"c1;;\", nbins, bins)\n",
    "        h2 = ROOT.TH1F(\"h2\", \"c2;;\", nbins, bins)\n",
    "        h3 = ROOT.TH1F(\"h1\", \"c3;;\", nbins, bins)\n",
    "    else:\n",
    "        h_sm = ROOT.TH1F(\"h_sm\", \"sm;;\", nbins, min_x, max_x)\n",
    "        h1 = ROOT.TH1F(\"h1\", \"c1;;\", nbins, min_x, max_x)\n",
    "        h2 = ROOT.TH1F(\"h2\", \"c2;;\", nbins, min_x, max_x)\n",
    "        h3 = ROOT.TH1F(\"h3\", \"c3;;\", nbins, min_x, max_x)\n",
    "    \n",
    "    c1, c2, c3 = 1,10,100\n",
    "    if i >= 7:\n",
    "        c1, c2, c3 = 0.1,1,10\n",
    "\n",
    "    if isTruth:\n",
    "        for i in range(sm_tree.GetEntries()):\n",
    "            sm_tree.GetEntry(i)\n",
    "            h_sm.Fill(getattr(sm_tree, branch), sm_tree.weight)\n",
    "            h1.Fill(getattr(sm_tree, branch), sm_tree.weight)\n",
    "            h2.Fill(getattr(sm_tree, branch), sm_tree.weight)\n",
    "            h3.Fill(getattr(sm_tree, branch), sm_tree.weight)\n",
    "        for i in range(int_tree.GetEntries()):\n",
    "            int_tree.GetEntry(i)\n",
    "            h1.Fill(getattr(int_tree, branch), int_tree.weight*c1)\n",
    "            h2.Fill(getattr(int_tree, branch), int_tree.weight*c2)\n",
    "            h3.Fill(getattr(int_tree, branch), int_tree.weight*c3)\n",
    "        for i in range(quad_tree.GetEntries()):\n",
    "            quad_tree.GetEntry(i)\n",
    "            h1.Fill(getattr(quad_tree, branch), quad_tree.weight*c1**2)\n",
    "            h2.Fill(getattr(quad_tree, branch), quad_tree.weight*c2**2)\n",
    "            h3.Fill(getattr(quad_tree, branch), quad_tree.weight*c3**2)\n",
    "    else:\n",
    "        for i in range(sm_tree.GetEntries()):\n",
    "            sm_tree.GetEntry(i)\n",
    "            tmp = int(sm_tree.pass_baseline_e) | int(sm_tree.pass_baseline_mu)\n",
    "            if tmp:\n",
    "                h_sm.Fill(getattr(sm_tree, branch), sm_tree.weight)\n",
    "                h1.Fill(getattr(sm_tree, branch), sm_tree.weight)\n",
    "                h2.Fill(getattr(sm_tree, branch), sm_tree.weight)\n",
    "                h3.Fill(getattr(sm_tree, branch), sm_tree.weight)\n",
    "        for i in range(int_tree.GetEntries()):\n",
    "            int_tree.GetEntry(i)\n",
    "            tmp = int(int_tree.pass_baseline_e) | int(int_tree.pass_baseline_mu)\n",
    "            if tmp:\n",
    "                h1.Fill(getattr(int_tree, branch), int_tree.weight*c1)\n",
    "                h2.Fill(getattr(int_tree, branch), int_tree.weight*c2)\n",
    "                h3.Fill(getattr(int_tree, branch), int_tree.weight*c3)\n",
    "        for i in range(quad_tree.GetEntries()):\n",
    "            quad_tree.GetEntry(i)\n",
    "            tmp = int(quad_tree.pass_baseline_e) | int(quad_tree.pass_baseline_mu)\n",
    "            if tmp:\n",
    "                h1.Fill(getattr(quad_tree, branch), quad_tree.weight*c1**2)   \n",
    "                h2.Fill(getattr(quad_tree, branch), quad_tree.weight*c2**2)\n",
    "                h3.Fill(getattr(quad_tree, branch), quad_tree.weight*c3**2)\n",
    "    h_sm.SetMarkerStyle(53) \n",
    "    h1.SetMarkerColorAlpha(ROOT.kBlue, 0.75)\n",
    "    h2.SetMarkerColorAlpha(ROOT.kRed+1, 0.75)\n",
    "    h3.SetMarkerColorAlpha(ROOT.kOrange, 1)\n",
    "    hs = ROOT.THStack (\"hs\",\" THStack \")\n",
    "    hs.Add (h3)\n",
    "    hs.Add (h2)\n",
    "    hs.Add (h1)\n",
    "    hs.Add (h_sm)\n",
    "    hs.Draw (\"NOSTACK\")\n",
    "\n",
    "    if set_log:\n",
    "        n = nbins\n",
    "        while (n >= 1) and (h3.GetBinContent(n) <= 0.5):\n",
    "            n -= 1\n",
    "        max_x = bins[n]\n",
    "        hs.GetXaxis().SetRangeUser(0, max_x) \n",
    "        hs.SetMinimum(0.5)\n",
    "\n",
    "    legend = ROOT.TLegend (0.65, 0.75,0.93,0.93)\n",
    "    legend.AddEntry ( h_sm ,'sm.root')\n",
    "    legend.AddEntry ( h1 ,operator +' with coupling='+str(c1))\n",
    "    legend.AddEntry ( h2 ,operator +' with coupling='+str(c2))\n",
    "    legend.AddEntry ( h3 ,operator +' with coupling='+str(c3))\n",
    "    legend.Draw (\" same \")\n",
    "\n",
    "    hs.GetYaxis().SetTitle(\"Number\")\n",
    "    hs.GetYaxis().SetTitleOffset (0.8)\n",
    "    hs.GetYaxis().SetLabelSize(0.02)\n",
    "    pad1.SetBottomMargin (0.25)\n",
    "    pad1.SetLeftMargin(0.1)\n",
    "    \n",
    "    # lower part\n",
    "    pad2 = ROOT.TPad (\" pad2 \",\" pad2 \" ,0 ,0 ,1 ,0.25)\n",
    "    pad2.Draw()\n",
    "    pad2.cd()\n",
    "    \n",
    "    h1_low = h1-h_sm\n",
    "    h1_low.Divide(h_sm)\n",
    "    h1_low.Draw()\n",
    "\n",
    "    h2_low = h2-h_sm\n",
    "    h2_low.Divide(h_sm)\n",
    "    h2_low.Draw('same')\n",
    "    h3_low = h3-h_sm\n",
    "    h3_low.Divide(h_sm)\n",
    "    h3_low.Draw('same')\n",
    "\n",
    "    h1_low.GetYaxis().SetRangeUser(-1,1)\n",
    "    if set_log:\n",
    "        h1_low.GetXaxis().SetRangeUser(0, max_x) \n",
    "    h1_low.GetYaxis().SetNdivisions (207)\n",
    "    '''markers = []\n",
    "    for i in range(nbins):\n",
    "        if (h1_low.GetBinContent(i) > 1):\n",
    "            markers += [ROOT.TMarker(h1_low.GetBinCenter(i), 1,22)]\n",
    "        if (h1_low.GetBinContent(i) < -1):\n",
    "            markers += [ROOT.TMarker(h1_low.GetBinCenter(i), -1,23)] \n",
    "    for j in markers:\n",
    "        j.Draw('same')'''\n",
    "\n",
    "    line = ROOT.TLine (min_x, 0, max_x,0)#*bins[1], 0)\n",
    "    line.SetLineColor (1)\n",
    "    line.SetLineWidth (2)\n",
    "    line.Draw (\" same \")\n",
    "    \n",
    "    # set format\n",
    "    if (branch.split('_')[-1]=='e'):\n",
    "        h1_low.GetXaxis().SetTitle(branch+'[GeV]')\n",
    "    elif (branch.split('_')[-1] =='pt'):\n",
    "        h1_low.GetXaxis().SetTitle(branch+'[GeV/c]')\n",
    "    elif (branch.split('_')[-1] in ['mt', 'm']):\n",
    "        h1_low.GetXaxis().SetTitle(branch+'[GeV/c^{2}]')\n",
    "    else:\n",
    "        h1_low.GetXaxis().SetTitle(branch)\n",
    "    h1_low.GetYaxis().SetTitle (\"ALL/SM-1  \")\n",
    "    h1_low.GetXaxis().SetTitleSize (0.25)\n",
    "    h1_low.GetYaxis().SetTitleSize (0.14)\n",
    "    h1_low.GetXaxis().SetLabelSize(0.15)\n",
    "    h1_low.GetYaxis().SetLabelSize(0.14)\n",
    "    h1_low.GetYaxis().SetTitleOffset (0.27)\n",
    "    h1_low.GetXaxis().SetTitleOffset (0.7)\n",
    "\n",
    "    pad2.SetTopMargin (0)\n",
    "    pad2.SetLeftMargin(0.1)\n",
    "    pad2.SetBottomMargin (0.4)\n",
    "    pad2.SetLogx(set_log_x)\n",
    "\n",
    "    can.Draw()\n",
    "    can.Update()\n",
    "    can.Print('test.png')\n",
    "    can.SaveAs(generate_output_path())\n",
    "    can.Clear()\n",
    "    \n",
    "    int_data.Close()\n",
    "    quad_data.Close()"
   ]
  },
  {
   "cell_type": "code",
   "execution_count": null,
   "id": "3849495b",
   "metadata": {
    "ExecuteTime": {
     "end_time": "2022-06-08T21:15:35.057877Z",
     "start_time": "2022-06-08T21:15:31.325336Z"
    }
   },
   "outputs": [],
   "source": [
    "#plot_branch('M2', 'j1_truth_eta', set_log=1, set_log_x=1, isTruth=True)"
   ]
  },
  {
   "cell_type": "code",
   "execution_count": null,
   "id": "bb22f881",
   "metadata": {},
   "outputs": [],
   "source": [
    "for o in operators:\n",
    "    for t in truth_branch:\n",
    "        boo = t.split('_')[-1] in ['e','pt','m','mt']\n",
    "        plot_branch(o, t, set_log=boo, set_log_x=0, isTruth=1, isPDF=1)\n",
    "    for r in reconst_branch:\n",
    "        boo = r.split('_')[-1] in ['e','pt','m','mt']\n",
    "        boo_x = (r.split('_')[0] in ['lep', 'w', 'wy']) and boo\n",
    "        plot_branch(o, r, set_log=boo, set_log_x=boo_x, isTruth=0, isPDF=1)\n",
    "    print(o+' completed!')"
   ]
  },
  {
   "cell_type": "code",
   "execution_count": null,
   "id": "fecf66e1",
   "metadata": {},
   "outputs": [],
   "source": [
    "'''from PIL import Image\n",
    "\n",
    "arr = ['p1.png', 'p2.png', 'p3.png', 'p4.png']\n",
    "toImage = Image.new('RGBA',(400,400))\n",
    "for i in range(4):\n",
    "    fromImge = Image.open(arr[i])\n",
    "    # loc = ((i % 2) * 200, (int(i/2) * 200))\n",
    "    loc = ((int(i/2) * 200), (i % 2) * 200)\n",
    "    print(loc)\n",
    "    toImage.paste(fromImge, loc)\n",
    "\n",
    "toImage.save('merged.png')'''"
   ]
  },
  {
   "cell_type": "code",
   "execution_count": 10,
   "id": "f8d3cc3e",
   "metadata": {},
   "outputs": [],
   "source": [
    "from PIL import Image\n",
    "\n",
    "\n",
    "t_digrams = []\n",
    "r_digrams = []\n",
    "t_path = './output_pdf/truth/'\n",
    "r_path = './output_pdf/reconstructed/'\n",
    "\n",
    "for o in operators:\n",
    "    digrams = []\n",
    "    for t in truth_branch:\n",
    "        digrams += [t_path+o+'/'+t+'.pdf']\n",
    "    t_digrams += [digrams]\n",
    "    digrams = []\n",
    "    for r in reconst_branch:\n",
    "        digrams += [r_path+o+'/'+r+'.pdf']\n",
    "    r_digrams += [digrams]"
   ]
  },
  {
   "cell_type": "code",
   "execution_count": 13,
   "id": "d2cf8d85",
   "metadata": {},
   "outputs": [
    {
     "ename": "UnidentifiedImageError",
     "evalue": "cannot identify image file './output_pdf/truth/M0/jj_truth_drap.pdf'",
     "output_type": "error",
     "traceback": [
      "\u001b[0;31m---------------------------------------------------------------------------\u001b[0m",
      "\u001b[0;31mUnidentifiedImageError\u001b[0m                    Traceback (most recent call last)",
      "\u001b[1;32m/Users/yy/cernbox/SWAN_projects/SM_compare/proj1.ipynb Cell 10'\u001b[0m in \u001b[0;36m<cell line: 3>\u001b[0;34m()\u001b[0m\n\u001b[1;32m      <a href='vscode-notebook-cell:/Users/yy/cernbox/SWAN_projects/SM_compare/proj1.ipynb#ch0000010?line=1'>2</a>\u001b[0m toImage \u001b[39m=\u001b[39m Image\u001b[39m.\u001b[39mnew(\u001b[39m'\u001b[39m\u001b[39mRGBA\u001b[39m\u001b[39m'\u001b[39m,(\u001b[39m3200\u001b[39m,\u001b[39m4200\u001b[39m)) \u001b[39m# 4800 for recon\u001b[39;00m\n\u001b[1;32m      <a href='vscode-notebook-cell:/Users/yy/cernbox/SWAN_projects/SM_compare/proj1.ipynb#ch0000010?line=2'>3</a>\u001b[0m \u001b[39mfor\u001b[39;00m i \u001b[39min\u001b[39;00m \u001b[39mrange\u001b[39m(\u001b[39mlen\u001b[39m(arr)):\n\u001b[0;32m----> <a href='vscode-notebook-cell:/Users/yy/cernbox/SWAN_projects/SM_compare/proj1.ipynb#ch0000010?line=3'>4</a>\u001b[0m     fromImge \u001b[39m=\u001b[39m Image\u001b[39m.\u001b[39;49mopen(arr[i])\n\u001b[1;32m      <a href='vscode-notebook-cell:/Users/yy/cernbox/SWAN_projects/SM_compare/proj1.ipynb#ch0000010?line=4'>5</a>\u001b[0m     \u001b[39m# loc = ((i % 2) * 200, (int(i/2) * 200))\u001b[39;00m\n\u001b[1;32m      <a href='vscode-notebook-cell:/Users/yy/cernbox/SWAN_projects/SM_compare/proj1.ipynb#ch0000010?line=5'>6</a>\u001b[0m     loc \u001b[39m=\u001b[39m ((i\u001b[39m%\u001b[39m\u001b[39m2\u001b[39m)\u001b[39m*\u001b[39m\u001b[39m800\u001b[39m, (\u001b[39m6\u001b[39m\u001b[39m-\u001b[39mi\u001b[39m/\u001b[39m\u001b[39m/\u001b[39m\u001b[39m2\u001b[39m)\u001b[39m*\u001b[39m\u001b[39m600\u001b[39m)\n",
      "File \u001b[0;32m~/opt/anaconda3/envs/cern/lib/python3.9/site-packages/PIL/Image.py:3123\u001b[0m, in \u001b[0;36mopen\u001b[0;34m(fp, mode, formats)\u001b[0m\n\u001b[1;32m   <a href='file:///Users/yy/opt/anaconda3/envs/cern/lib/python3.9/site-packages/PIL/Image.py?line=3120'>3121</a>\u001b[0m \u001b[39mfor\u001b[39;00m message \u001b[39min\u001b[39;00m accept_warnings:\n\u001b[1;32m   <a href='file:///Users/yy/opt/anaconda3/envs/cern/lib/python3.9/site-packages/PIL/Image.py?line=3121'>3122</a>\u001b[0m     warnings\u001b[39m.\u001b[39mwarn(message)\n\u001b[0;32m-> <a href='file:///Users/yy/opt/anaconda3/envs/cern/lib/python3.9/site-packages/PIL/Image.py?line=3122'>3123</a>\u001b[0m \u001b[39mraise\u001b[39;00m UnidentifiedImageError(\n\u001b[1;32m   <a href='file:///Users/yy/opt/anaconda3/envs/cern/lib/python3.9/site-packages/PIL/Image.py?line=3123'>3124</a>\u001b[0m     \u001b[39m\"\u001b[39m\u001b[39mcannot identify image file \u001b[39m\u001b[39m%r\u001b[39;00m\u001b[39m\"\u001b[39m \u001b[39m%\u001b[39m (filename \u001b[39mif\u001b[39;00m filename \u001b[39melse\u001b[39;00m fp)\n\u001b[1;32m   <a href='file:///Users/yy/opt/anaconda3/envs/cern/lib/python3.9/site-packages/PIL/Image.py?line=3124'>3125</a>\u001b[0m )\n",
      "\u001b[0;31mUnidentifiedImageError\u001b[0m: cannot identify image file './output_pdf/truth/M0/jj_truth_drap.pdf'"
     ]
    }
   ],
   "source": [
    "\n",
    "arr = t_digrams[0]\n",
    "toImage = Image.new('RGBA',(3200,4200)) # 4800 for recon\n",
    "for i in range(len(arr)):\n",
    "    fromImge = Image.open(arr[i])\n",
    "    # loc = ((i % 2) * 200, (int(i/2) * 200))\n",
    "    loc = ((i%2)*800, (6-i//2)*600)\n",
    "    print(loc)\n",
    "    toImage.paste(fromImge, loc)\n",
    "\n",
    "toImage.save(t_path+'merged.pdf')\n",
    "        "
   ]
  },
  {
   "cell_type": "code",
   "execution_count": null,
   "id": "f1705403",
   "metadata": {},
   "outputs": [],
   "source": []
  }
 ],
 "metadata": {
  "interpreter": {
   "hash": "65398ec9edf812bfa2a1cd19e30d7cdb06b1eced593dd679351ef973282302ad"
  },
  "kernelspec": {
   "display_name": "Python 3",
   "language": "python",
   "name": "python3"
  },
  "language_info": {
   "codemirror_mode": {
    "name": "ipython",
    "version": 3
   },
   "file_extension": ".py",
   "mimetype": "text/x-python",
   "name": "python",
   "nbconvert_exporter": "python",
   "pygments_lexer": "ipython3",
   "version": "3.9.12"
  },
  "varInspector": {
   "cols": {
    "lenName": 16,
    "lenType": 16,
    "lenVar": 40
   },
   "kernels_config": {
    "python": {
     "delete_cmd_postfix": "",
     "delete_cmd_prefix": "del ",
     "library": "var_list.py",
     "varRefreshCmd": "print(var_dic_list())"
    },
    "r": {
     "delete_cmd_postfix": ") ",
     "delete_cmd_prefix": "rm(",
     "library": "var_list.r",
     "varRefreshCmd": "cat(var_dic_list()) "
    }
   },
   "oldHeight": 399.852,
   "position": {
    "height": "40px",
    "left": "1058px",
    "right": "20px",
    "top": "120px",
    "width": "347px"
   },
   "types_to_exclude": [
    "module",
    "function",
    "builtin_function_or_method",
    "instance",
    "_Feature"
   ],
   "varInspector_section_display": "none",
   "window_display": false
  }
 },
 "nbformat": 4,
 "nbformat_minor": 5
}
